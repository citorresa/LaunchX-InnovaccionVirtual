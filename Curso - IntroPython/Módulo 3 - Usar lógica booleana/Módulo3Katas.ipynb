{
 "cells": [
  {
   "cell_type": "markdown",
   "metadata": {},
   "source": [
    "Ejercicio - Escribir declaraciones if, else, y elif\n",
    "\n",
    "    # Añadir el código necesario para crear una variable que guarde la velocidad del asteroide."
   ]
  },
  {
   "cell_type": "code",
   "execution_count": 70,
   "metadata": {},
   "outputs": [
    {
     "name": "stdout",
     "output_type": "stream",
     "text": [
      "La velocidad del asteroide es: 11 km/s\n"
     ]
    }
   ],
   "source": [
    "Velmeteoro = int(input(\"La velocidad del asteroide es:  \"))\n",
    "print(\"La velocidad del asteroide es: \" + str(Velmeteoro) + \" km/s\")\n"
   ]
  },
  {
   "cell_type": "markdown",
   "metadata": {},
   "source": [
    "    # Escribe una expresión de prueba para calcular si necesita una advertencia."
   ]
  },
  {
   "cell_type": "code",
   "execution_count": 9,
   "metadata": {},
   "outputs": [
    {
     "name": "stdout",
     "output_type": "stream",
     "text": [
      "Ten un buen dia\n"
     ]
    }
   ],
   "source": [
    "velMeteoro = int(input(\"La velocidad del asteroide es: \"))\n",
    "alertaVel = 25\n",
    "if velMeteoro > alertaVel :\n",
    "        print(\"El asteroide se acerca a la Tierra demasiado rápido! \" +  \"su velocidad es: \" + str(velMeteoro) + \" km/s\")\n",
    "else:\n",
    "        print(\"Ten un buen dia\")"
   ]
  },
  {
   "cell_type": "markdown",
   "metadata": {},
   "source": [
    "    # Agregue las instrucciones que se ejecutarán si la expresión de prueba es true o false."
   ]
  },
  {
   "cell_type": "code",
   "execution_count": 12,
   "metadata": {},
   "outputs": [
    {
     "data": {
      "text/plain": [
       "False"
      ]
     },
     "execution_count": 12,
     "metadata": {},
     "output_type": "execute_result"
    }
   ],
   "source": [
    "velMeteoro = int(input(\"La velocidad del asteroide es: \"))\n",
    "alertaVel = 25\n",
    "velMeteoro > alertaVel\n",
    "   \n"
   ]
  },
  {
   "cell_type": "markdown",
   "metadata": {},
   "source": [
    "Si un asteroide entra en la atmósfera de la Tierra a una velocidad mayor o igual a 20 km/s, a veces produce un rayo de luz que se puede ver desde la Tierra. Escribe la lógica condicional que usa declaraciones if, else, y elif para alertar a las personas de todo el mundo que deben buscar un asteroide en el cielo. ¡Hay uno que se dirige a la tierra ahora a una velocidad de 19 km/s!\n",
    "\n",
    "    # Agrega el código para crear una variable para un asteroide que viaja a 19 km/s\n",
    "    # Escribe varias expresiones de prueba para determinar si puedes ver el rayo de luz desde la tierra\n",
    "    # Agrega las instrucciones que se ejecutarán si las expresiones de prueba son True o False"
   ]
  },
  {
   "cell_type": "code",
   "execution_count": 13,
   "metadata": {},
   "outputs": [
    {
     "name": "stdout",
     "output_type": "stream",
     "text": [
      "se avecina un meteorito que no tiene una estela de luz\n"
     ]
    }
   ],
   "source": [
    "velMeteoro = 19\n",
    "alertaVel = 20\n",
    "estelaLuz = 20\n",
    "if velMeteoro > alertaVel:\n",
    "    if alertaVel >= estelaLuz:\n",
    "        print(\"Busca la estela de Luz desde la tierra que deja el meteorito\")\n",
    "    else:\n",
    "        print(\"Es meteorico comun y corriente\")\n",
    "elif velMeteoro == alertaVel:\n",
    "    print(\"Existe una posibilidad que haya estela de luz\")\n",
    "else:\n",
    "    print(\"se avecina un meteorito que no tiene una estela de luz\")\n"
   ]
  },
  {
   "cell_type": "markdown",
   "metadata": {},
   "source": [
    "Ejercicio: Uso de operadores and y or\n",
    "En el ejercicio anterior, trabajó con sentencias if, else, y elif para escribir programas con lógica condicional compleja. Para crear expresiones booleanas aún más interesantes, puede usar los operadores and y or en Python.\n",
    "\n",
    "Las expresiones and son sólo si ambas subexpresiones son verdaderas.\n",
    "\n",
    "expresión1 and expresión2\n",
    "\n",
    "Las expresiones or son True si al menos una subexpresión es verdadera.\n",
    "\n",
    "expresión1 or expresión2\n",
    "\n",
    "En este ejercicio, aprenderás información más matizada sobre cuándo los asteroides representan un peligro para la Tierra, y utilizarás esa información para mejorar nuestro sistema de advertencia. Aquí está la nueva información que necesitas saber:\n",
    "\n",
    "*Los asteroides de menos de 25 metros en su dimensión más grande probablemente se quemarán a medida que entren en la atmósfera de la Tierra.\n",
    "\n",
    "Si una pieza de un asteroide que es más grande que 25 metros pero más pequeña que 1000 metros golpeara la Tierra, causaría mucho daño.\n",
    "También discutimos en el ejercicio anterior que:\n",
    "\n",
    "La velocidad del asteroide varía en función de lo cerca que esté del sol, y cualquier velocidad superior a 25 kilómetros por segundo (km/s) merece una advertencia.\n",
    "Si un asteroide entra en la atmósfera de la Tierra a una velocidad mayor o igual a 20 km/s, a veces produce un rayo de luz que se puede ver desde la Tierra.\n",
    "Usando toda esta información, escribe un programa que emita la advertencia o información correcta a la gente de la Tierra, según la velocidad y el tamaño de un asteroide. Utiliza instrucciones if, else, y elif, así como los operadores and y or.\n",
    "\n",
    "    # Agrega el código para crear nuevas variables para la velocidad y el tamaño del asteroide\n",
    "    # Para probar el código, prueba con varias velocidades y tamaños\n",
    "    # Escribe varias expresiones de prueba o combinaciones de expresiones de prueba para determinar qué mensaje se debe enviar a Tierra."
   ]
  },
  {
   "cell_type": "code",
   "execution_count": 58,
   "metadata": {},
   "outputs": [
    {
     "name": "stdout",
     "output_type": "stream",
     "text": [
      "Sal al cielo a buscar la estela de luz que deja el cuerpo celestial\n"
     ]
    }
   ],
   "source": [
    "velMeteoro = int(input(\"La velocidad del asteroide es: \"))\n",
    "maxSfvel = 25\n",
    "sizeMeteoro = int(input(\"El tamaño del asteroide es: \"))\n",
    "maxSfsizeMeteoro = 24\n",
    "overSizemeteoro = 1000\n",
    "estelaLuz = 20\n",
    "\n",
    "if maxSfsizeMeteoro >= sizeMeteoro and (velMeteoro >= estelaLuz) <= maxSfvel:\n",
    "    if sizeMeteoro > maxSfsizeMeteoro < overSizemeteoro or velMeteoro > maxSfvel:\n",
    "        print(\"Estamos presentando una alerta de asteroide toma tus precauciones: \" +\n",
    "              str(velMeteoro) + \" km/s de velocidad a la tierra y \" + str(sizeMeteoro) + \" mts. de tamaño\")\n",
    "    else:\n",
    "        print(\"Encuentra la estrella fugas\")\n"
   ]
  }
 ],
 "metadata": {
  "interpreter": {
   "hash": "69eb92836b941e979072a76c7fcfffe5419cca933cedd02cfafbdfca1a93358c"
  },
  "kernelspec": {
   "display_name": "Python 3.9.10 64-bit",
   "language": "python",
   "name": "python3"
  },
  "language_info": {
   "codemirror_mode": {
    "name": "ipython",
    "version": 3
   },
   "file_extension": ".py",
   "mimetype": "text/x-python",
   "name": "python",
   "nbconvert_exporter": "python",
   "pygments_lexer": "ipython3",
   "version": "3.9.10"
  },
  "orig_nbformat": 4
 },
 "nbformat": 4,
 "nbformat_minor": 2
}
